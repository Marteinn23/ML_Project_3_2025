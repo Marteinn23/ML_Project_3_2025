{
 "cells": [
  {
   "cell_type": "code",
   "execution_count": 800,
   "id": "d4fa65f9",
   "metadata": {},
   "outputs": [],
   "source": [
    "import matplotlib.pyplot as plt\n",
    "import numpy as np\n",
    "import random"
   ]
  },
  {
   "cell_type": "code",
   "execution_count": null,
   "id": "52a13f6e",
   "metadata": {},
   "outputs": [],
   "source": [
    "def geno_to_pheno(individuals):\n",
    "  return [int(\"\".join(map(str, individual)), 2) for individual in individuals]\n",
    "\n",
    "def pheno_to_geno(x_values):\n",
    "  return [[int(bit) for bit in format(x_value, '06b')] for x_value in x_values]\n",
    "\n",
    "GENOTYPE_LENGT = 6\n",
    "\n",
    "def initialize_population(population_size: int) -> list[list]:\n",
    "  \"\"\"\n",
    "  Creates the individuals for the population, each having six binary genes. Provides outputs\n",
    "  e.g., as a list of lists e.g.,\n",
    "  \"\"\"\n",
    "  return_list = []\n",
    "  for _ in range(population_size):\n",
    "    individual_list = []\n",
    "    for _ in range(GENOTYPE_LENGT):\n",
    "      individual_list.append(random.choice([1,0]))\n",
    "    return_list.append(individual_list)\n",
    "  \n",
    "  return return_list\n",
    "\n",
    "def calculate_fitness(individuals, pheno_mode=False):\n",
    "  \"\"\"\n",
    "  Takes in the phenotype and calculates the fitness\n",
    "  \n",
    "  fitness = − 0.00008333y^6 − 0.001y^5 + 0.09375y^4 + 1.16667y^3 − 19.53125y^2 − 234.375^y + 8350\n",
    "  \"\"\"\n",
    "  if pheno_mode: # makes it so that individual phenos can be directly put into the function\n",
    "     pheno = individuals\n",
    "  else:\n",
    "    pheno = geno_to_pheno(individuals)\n",
    "  \n",
    "  fitness_list = []\n",
    "  \n",
    "  for y in pheno:\n",
    "    if y >= 32:\n",
    "      y -= 64\n",
    "    fitness_list.append(-0.00008333*(y**6) - 0.001*(y**5) + 0.09375*(y**4) + 1.16667*(y**3) - 19.53125*(y**2) - 234.375*y + 8350)\n",
    "  \n",
    "  return fitness_list\n",
    "\n",
    "def parent_selection(individuals, fitness_values):\n",
    "    \"\"\"\n",
    "    Inputs: Individuals, Fitness values; \n",
    "    Output: Parents (in random order, same number as individuals)). \n",
    "    This separate function parent selection should perform fitness-proportional parent\n",
    "    selection (as discussed in class) so that more fit parents have a higher\n",
    "    probability to be selected.\n",
    "    \"\"\"\n",
    "    amount = len(individuals)\n",
    "\n",
    "    #TODO: this might be a flawed way of calculating the probabilities\n",
    "    total_fitness = sum(fitness_values)\n",
    "    fitness_probabilities = [fitness/total_fitness for fitness in fitness_values]\n",
    "    individual_indices = range(0,amount)\n",
    "\n",
    "    parent_pool = []\n",
    "    while(len(parent_pool) < amount-1):\n",
    "      couple = np.random.choice(individual_indices, size=2, replace=False, p=fitness_probabilities)\n",
    "      for parent_index in couple:\n",
    "        parent_pool.append(individuals[parent_index])\n",
    "    \n",
    "    return parent_pool\n",
    "\n",
    "def one_point_crossover(parents, crossover_probability):\n",
    "    \"\"\"\n",
    "    Inputs: Parents, Crossover Probability \n",
    "    Outputs: Offspring (pre-Mutation)). \n",
    "    This separate function one point crossover performs 1-point crossover and generates \n",
    "    for parents 1 & 2, parents 3 & 4 etc. offspring (and e.g., provides all offspring as \n",
    "    a list of lists). Keep in mind that you can use a random uniform number ∈ [0, 1] \n",
    "    and compare it against the crossover probability, if it does not exceed it, crossover \n",
    "    is performed (with a random cutoff point, using randint function in random module), \n",
    "    otherwise, the two parents are simply copied to be the offspring.\n",
    "    \"\"\"\n",
    "    amount_of_parents = len(parents)\n",
    "\n",
    "    children_list = []\n",
    "\n",
    "    for index in range(1,amount_of_parents,2):\n",
    "      parent1 = parents[index - 1]\n",
    "      parent2 = parents[index]\n",
    "\n",
    "      should_crossover =  random.uniform(0, 1) <= crossover_probability\n",
    "\n",
    "      if should_crossover:\n",
    "        crossover_point = random.randint(1, len(parent1))\n",
    "        \n",
    "        offspring1 = parent1[:crossover_point] + parent2[crossover_point:]\n",
    "        offspring2 = parent2[:crossover_point] + parent1[crossover_point:]\n",
    "        \n",
    "      else:\n",
    "        offspring1 = parent1.copy()\n",
    "        offspring2 = parent2.copy()\n",
    "          \n",
    "\n",
    "      children_list.append(offspring1)\n",
    "      children_list.append(offspring2)\n",
    "\n",
    "    return children_list\n",
    "\n",
    "def mutation(individuals,mutation_probability):\n",
    "    \"\"\"\n",
    "    Inputs: Individuals, Mutation Probability PM\n",
    "    Outputs: Offspring (mutated)). \n",
    "    This separate function mutation performs bitflip mutation for \n",
    "    each bit / gene and each individual with mutation probability \n",
    "    PM . Similarly to crossover, keep in mind that you can use a \n",
    "    random uniform number ∈ [0, 1] and compare it against the mutation\n",
    "    probability, if it does not exceed it, the value for the gene is\n",
    "    flipped (e.g., from 0 to 1 or vice versa).\n",
    "    \"\"\"\n",
    "    mutated_individuals = []\n",
    "\n",
    "    for individual in individuals:\n",
    "        mutated_individual = individual.copy()\n",
    "\n",
    "        for gene_index in range(len(mutated_individual)):\n",
    "            if random.random() <= mutation_probability:\n",
    "                mutated_individual[gene_index] = 1 - mutated_individual[gene_index]\n",
    "\n",
    "        mutated_individuals.append(mutated_individual)\n",
    "\n",
    "    return mutated_individuals\n",
    "\n",
    "def survivor_selection(individuals, offsprint, fitness_individuals, fitness_offspring):\n",
    "    \"\"\"\n",
    "    Inputs: Individuals, Offspring, Fitness Individuals, Fitness Offspring; \n",
    "    Outputs: (New) population. \n",
    "    This separate function survivor selection performs deterministic \n",
    "    survivor selection (no randomness / stochasticity here) by taking \n",
    "    from among the population individuals and the offspring the survivors \n",
    "    based on the highest fitness values (population size should remain the same!.\n",
    "    \"\"\"\n",
    "    pass\n",
    "\n",
    "def loop(no_of_iterations):\n",
    "    \"\"\"\n",
    "    Now create the complete version of the simple genetic algorithm\n",
    "    (SGA), using the functions previously coded. Specifically, initialize the\n",
    "    population and then loop (for a number of iterations to be specified) over\n",
    "    those steps that should be repeated in the SGA.\n",
    "    \"\"\"\n",
    "    pass"
   ]
  },
  {
   "cell_type": "markdown",
   "id": "0795364b",
   "metadata": {},
   "source": [
    "# Task 1:\n",
    "\n",
    "## 1.1 Initialization function\n",
    "\n",
    "Here are the generated individuals."
   ]
  },
  {
   "cell_type": "code",
   "execution_count": 802,
   "id": "df047899",
   "metadata": {},
   "outputs": [
    {
     "name": "stdout",
     "output_type": "stream",
     "text": [
      "The return type is a list of lists.\n",
      "Individual 0: [0, 0, 1, 1, 1, 0]\n",
      "Individual 1: [0, 1, 1, 0, 0, 1]\n",
      "Individual 2: [1, 0, 0, 0, 1, 1]\n",
      "Individual 3: [0, 0, 0, 1, 0, 1]\n"
     ]
    }
   ],
   "source": [
    "SIZE = 4\n",
    "\n",
    "task_1_population = initialize_population(SIZE)\n",
    "\n",
    "print(\"The return type is a list of lists.\")\n",
    "\n",
    "for individual_no in range(SIZE):\n",
    "  print(f\"Individual {individual_no}: {task_1_population[individual_no]}\")"
   ]
  },
  {
   "cell_type": "markdown",
   "id": "8801880f",
   "metadata": {},
   "source": [
    "## 1.2 Calculate fitness\n",
    "\n",
    "Here is the fitness for the individual: [0,1,0,1,0,1]"
   ]
  },
  {
   "cell_type": "code",
   "execution_count": 803,
   "id": "73d20d8a",
   "metadata": {},
   "outputs": [
    {
     "name": "stdout",
     "output_type": "stream",
     "text": [
      "[12620.976507070001]\n"
     ]
    }
   ],
   "source": [
    "print(calculate_fitness([[0,1,0,1,0,1]]))"
   ]
  },
  {
   "cell_type": "markdown",
   "id": "54cb3bed",
   "metadata": {},
   "source": [
    "Here is the plotted fitness landscape:"
   ]
  },
  {
   "cell_type": "code",
   "execution_count": 804,
   "id": "97ba7a6a",
   "metadata": {},
   "outputs": [
    {
     "name": "stdout",
     "output_type": "stream",
     "text": [
      "[8350.0, 8097.35308667, 7813.92102688, 7509.88384243, 7197.30156032, 6889.84421875, 6602.46187552, 6350.99461883, 6151.72258048, 6020.85595147, 5973.965, 6025.35009187, 6187.351713280001, 6469.60049603, 6878.20724512, 7414.89296875, 8076.058910719999, 8851.79658523, 9724.837814080001, 10669.44476627, 11650.240000000002, 12620.976507070001, 13523.247759679998, 14285.13775963, 14819.811089920004, 15024.04296875, 14776.689305920001, 13937.09676163, 12343.452807679998, 9811.075791069994, 6130.644999999997, 1066.3707322699993, 4.083246079993842, 3343.3907922699946, 5792.9649999999965, 7519.294531069998, 8667.709127679998, 9364.029541629996, 9716.157465919998, 9815.60546875, 9738.966929919998, 9549.325979629999, 9297.60743968, 9023.86676707, 8758.52, 8523.513706270001, 8333.43493408, 8196.56116523, 8115.85027072, 8089.870468749999, 8113.67028512, 8179.58851603, 8278.00419328, 8398.02655187, 8528.125, 8656.69909147, 8772.58850048, 8865.52299883, 8926.51243552, 8948.17671875, 8925.01580032, 8853.61966243, 8732.81830688]\n"
     ]
    },
    {
     "data": {
      "image/png": "[encoded data removed]",
      "text/plain": [
       "<Figure size 640x480 with 1 Axes>"
      ]
     },
     "metadata": {},
     "output_type": "display_data"
    }
   ],
   "source": [
    "x_list = range(0,63)\n",
    "y_list = calculate_fitness(x_list,pheno_mode=True)\n",
    "\n",
    "print(y_list)\n",
    "\n",
    "plt.plot(x_list, y_list, \"r-\", linewidth=2, label=\"Fitness\")\n",
    "plt.scatter(x_list, y_list, color=\"red\")\n",
    "plt.xlabel(\"X values\")\n",
    "plt.ylabel(\"Fitness\")\n",
    "plt.grid(True, alpha=0.5, which=\"both\")\n",
    "plt.minorticks_on()\n",
    "plt.show()"
   ]
  },
  {
   "cell_type": "markdown",
   "id": "081caa62",
   "metadata": {},
   "source": [
    "The minimum is reached at x-value 32. The maximum is reached at 25.\n",
    "\n",
    "## 1.3 Parent Selection Function\n"
   ]
  },
  {
   "cell_type": "code",
   "execution_count": 805,
   "id": "2994c522",
   "metadata": {},
   "outputs": [
    {
     "name": "stdout",
     "output_type": "stream",
     "text": [
      "Individuals:\n",
      "  Individual 0:\n",
      "        Geno: [0, 1, 1, 0, 0, 1]\n",
      "        Fitness: 15024.04296875\n",
      "  Individual 1:\n",
      "        Geno: [1, 0, 0, 0, 0, 0]\n",
      "        Fitness: 4.083246079993842\n",
      "  Individual 2:\n",
      "        Geno: [0, 0, 0, 0, 1, 0]\n",
      "        Fitness: 7813.92102688\n",
      "  Individual 3:\n",
      "        Geno: [1, 0, 1, 0, 0, 0]\n",
      "        Fitness: 9738.966929919998\n",
      "\n",
      "Parents selected:\n",
      "  Parent 0:\n",
      "        Geno: [0, 0, 0, 0, 1, 0]\n",
      "        Fitness: 7813.92102688\n",
      "  Parent 1:\n",
      "        Geno: [0, 1, 1, 0, 0, 1]\n",
      "        Fitness: 15024.04296875\n",
      "  Parent 2:\n",
      "        Geno: [0, 1, 1, 0, 0, 1]\n",
      "        Fitness: 15024.04296875\n",
      "  Parent 3:\n",
      "        Geno: [1, 0, 1, 0, 0, 0]\n",
      "        Fitness: 9738.966929919998\n"
     ]
    }
   ],
   "source": [
    "MAXIMA = [0,1,1,0,0,1] # 25\n",
    "MINIMA = [1,0,0,0,0,0] # 32\n",
    "MODERATE1 = [0,0,0,0,1,0] # 2\n",
    "MODERATE2 = [1,0,1,0,0,0] # 40\n",
    "task_3_population = [MAXIMA,MINIMA,MODERATE1,MODERATE2]\n",
    "task_3_population_fitness = calculate_fitness(task_3_population)\n",
    "print(\"Individuals:\")\n",
    "for individual_index in range(4):\n",
    "    print(\n",
    "        f\"  Individual {individual_index}:\\n        Geno: {task_3_population[individual_index]}\\n        Fitness: {task_3_population_fitness[individual_index]}\"\n",
    "    )\n",
    "task_3_parents = parent_selection(task_3_population, task_3_population_fitness)\n",
    "task_3_parents_fitness = calculate_fitness(task_3_parents)\n",
    "\n",
    "print(\"\\nParents selected:\")\n",
    "for individual_index in range(4):\n",
    "    print(\n",
    "        f\"  Parent {individual_index}:\\n        Geno: {task_3_parents[individual_index]}\\n        Fitness: {task_3_parents_fitness[individual_index]}\"\n",
    "    )"
   ]
  },
  {
   "cell_type": "markdown",
   "id": "a1ed70a5",
   "metadata": {},
   "source": [
    "As we can see the individual with the fitness minima was not selected."
   ]
  },
  {
   "cell_type": "markdown",
   "id": "95b84c67",
   "metadata": {},
   "source": [
    "## 1.4 Recombination"
   ]
  },
  {
   "cell_type": "code",
   "execution_count": 806,
   "id": "e1bc8362",
   "metadata": {},
   "outputs": [
    {
     "name": "stdout",
     "output_type": "stream",
     "text": [
      "Parent 1: [1, 1, 1, 1, 1, 1]\n",
      "Parent 2: [0, 0, 0, 0, 0, 0]\n",
      "Child 0: [1, 1, 1, 1, 0, 0]\n",
      "Child 1: [0, 0, 0, 0, 1, 1]\n"
     ]
    }
   ],
   "source": [
    "random.seed(45)\n",
    "\n",
    "task_4_parent1 = [1,1,1,1,1,1]\n",
    "task_4_parent2 = [0,0,0,0,0,0]\n",
    "print(f\"Parent 1: {task_4_parent1}\")\n",
    "print(f\"Parent 2: {task_4_parent2}\")\n",
    "children = one_point_crossover([task_4_parent1,task_4_parent2],1)\n",
    "for individual_index in range(len(children)):\n",
    "  print(f\"Child {individual_index}: {children[individual_index]}\")"
   ]
  },
  {
   "cell_type": "markdown",
   "id": "bc33c3e8",
   "metadata": {},
   "source": [
    "As we can see the random cutoff was dont on index 4.\n",
    "\n",
    "## 1.5 Mutation"
   ]
  },
  {
   "cell_type": "code",
   "execution_count": 807,
   "id": "2c3372f5",
   "metadata": {},
   "outputs": [
    {
     "name": "stdout",
     "output_type": "stream",
     "text": [
      "Individual before mutation:\n",
      " [0, 0, 0, 0, 0, 0]\n",
      "Individual after mutation(0.1):\n",
      " [0, 0, 1, 0, 0, 0]\n",
      "Individual before mutation(0.9):\n",
      " [1, 1, 1, 1, 1, 1]\n"
     ]
    }
   ],
   "source": [
    "random.seed(40)\n",
    "\n",
    "task_5_patient = [0, 0, 0, 0, 0, 0]\n",
    "task_5_patient_mutated = mutation([task_5_patient], 0.1)\n",
    "task_5_patient_super_mutated = mutation([task_5_patient], 0.9)\n",
    "\n",
    "print(\"Individual before mutation:\\n\",task_5_patient)\n",
    "print(\"Individual after mutation(0.1):\\n\",task_5_patient_mutated[0])\n",
    "print(\"Individual before mutation(0.9):\\n\",task_5_patient_super_mutated[0])"
   ]
  },
  {
   "cell_type": "markdown",
   "id": "7f0570c3",
   "metadata": {},
   "source": [
    "This is expected. For the low percentage mutations it going to be very rare to mutate more than one value. \n",
    "For the high percentage it makes sense that most of the genes have been flipped.\n",
    "\n",
    "## 1.6 Survivor Selection"
   ]
  }
 ],
 "metadata": {
  "kernelspec": {
   "display_name": "sklearn-env",
   "language": "python",
   "name": "python3"
  },
  "language_info": {
   "codemirror_mode": {
    "name": "ipython",
    "version": 3
   },
   "file_extension": ".py",
   "mimetype": "text/x-python",
   "name": "python",
   "nbconvert_exporter": "python",
   "pygments_lexer": "ipython3",
   "version": "3.12.3"
  }
 },
 "nbformat": 4,
 "nbformat_minor": 5
}
