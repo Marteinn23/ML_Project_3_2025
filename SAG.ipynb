{
 "cells": [
  {
   "cell_type": "code",
   "execution_count": 22,
   "id": "d4fa65f9",
   "metadata": {},
   "outputs": [],
   "source": [
    "import matplotlib.pyplot as plt\n",
    "import numpy as np\n",
    "import random"
   ]
  },
  {
   "cell_type": "code",
   "execution_count": 23,
   "id": "52a13f6e",
   "metadata": {},
   "outputs": [],
   "source": [
    "def geno_to_pheno(individuals):\n",
    "  return [int(\"\".join(map(str, individual)), 2) for individual in individuals]\n",
    "\n",
    "def pheno_to_geno(x_values):\n",
    "  return [[int(bit) for bit in format(x_value, '06b')] for x_value in x_values]\n",
    "\n",
    "GENOTYPE_LENGTH = 6\n",
    "\n",
    "def initialize_population(population_size: int) -> list[list]:\n",
    "  \"\"\"\n",
    "  Creates the individuals for the population, each having six binary genes. Provides outputs\n",
    "  e.g., as a list of lists e.g.,\n",
    "  \"\"\"\n",
    "  return_list = []\n",
    "  for _ in range(population_size):\n",
    "    individual_list = []\n",
    "    for _ in range(GENOTYPE_LENGTH):\n",
    "      individual_list.append(random.choice([1,0]))\n",
    "    return_list.append(individual_list)\n",
    "  \n",
    "  return return_list\n",
    "\n",
    "def calculate_fitness(individuals, pheno_mode=False):\n",
    "  \"\"\"\n",
    "  Takes in the phenotype and calculates the fitness\n",
    "  \n",
    "  fitness = − 0.00008333y^6 − 0.001y^5 + 0.09375y^4 + 1.16667y^3 − 19.53125y^2 − 234.375^y + 8350\n",
    "  \"\"\"\n",
    "  if pheno_mode: # makes it so that individual phenos can be directly put into the function\n",
    "     pheno = individuals\n",
    "  else:\n",
    "    pheno = geno_to_pheno(individuals)\n",
    "  \n",
    "  fitness_list = []\n",
    "  \n",
    "  for y in pheno:\n",
    "    if y >= 32:\n",
    "      y -= 64\n",
    "    fitness_list.append(-0.00008333*(y**6) - 0.001*(y**5) + 0.09375*(y**4) + 1.16667*(y**3) - 19.53125*(y**2) - 234.375*y + 8350)\n",
    "  \n",
    "  return fitness_list\n",
    "\n",
    "def parent_selection(individuals, fitness_values):\n",
    "    \"\"\"\n",
    "    Inputs: Individuals, Fitness values; \n",
    "    Output: Parents (in random order, same number as individuals)). \n",
    "    This separate function parent selection should perform fitness-proportional parent\n",
    "    selection (as discussed in class) so that more fit parents have a higher\n",
    "    probability to be selected.\n",
    "    \"\"\"\n",
    "    amount = len(individuals)\n",
    "\n",
    "    #TODO: this might be a flawed way of calculating the probabilities\n",
    "    total_fitness = sum(fitness_values)\n",
    "    fitness_probabilities = [fitness/total_fitness for fitness in fitness_values]\n",
    "    individual_indices = range(0,amount)\n",
    "\n",
    "    parent_pool = []\n",
    "    while(len(parent_pool) < amount-1):\n",
    "      couple = np.random.choice(individual_indices, size=2, replace=False, p=fitness_probabilities)\n",
    "      for parent_index in couple:\n",
    "        parent_pool.append(individuals[parent_index])\n",
    "    \n",
    "    return parent_pool\n",
    "\n",
    "def one_point_crossover(parents, crossover_probability):\n",
    "    \"\"\"\n",
    "    Inputs: Parents, Crossover Probability \n",
    "    Outputs: Offspring (pre-Mutation)). \n",
    "    This separate function one point crossover performs 1-point crossover and generates \n",
    "    for parents 1 & 2, parents 3 & 4 etc. offspring (and e.g., provides all offspring as \n",
    "    a list of lists). Keep in mind that you can use a random uniform number ∈ [0, 1] \n",
    "    and compare it against the crossover probability, if it does not exceed it, crossover \n",
    "    is performed (with a random cutoff point, using randint function in random module), \n",
    "    otherwise, the two parents are simply copied to be the offspring.\n",
    "    \"\"\"\n",
    "    amount_of_parents = len(parents)\n",
    "\n",
    "    children_list = []\n",
    "\n",
    "    for index in range(1,amount_of_parents,2):\n",
    "      parent1 = parents[index - 1]\n",
    "      parent2 = parents[index]\n",
    "\n",
    "      should_crossover =  random.uniform(0, 1) <= crossover_probability\n",
    "\n",
    "      if should_crossover:\n",
    "        crossover_point = random.randint(1, len(parent1))\n",
    "        \n",
    "        offspring1 = parent1[:crossover_point] + parent2[crossover_point:]\n",
    "        offspring2 = parent2[:crossover_point] + parent1[crossover_point:]\n",
    "        \n",
    "      else:\n",
    "        offspring1 = parent1.copy()\n",
    "        offspring2 = parent2.copy()\n",
    "          \n",
    "\n",
    "      children_list.append(offspring1)\n",
    "      children_list.append(offspring2)\n",
    "\n",
    "    return children_list\n",
    "\n",
    "def mutation(individuals,mutation_probability):\n",
    "    \"\"\"\n",
    "    Inputs: Individuals, Mutation Probability PM\n",
    "    Outputs: Offspring (mutated)). \n",
    "    This separate function mutation performs bitflip mutation for \n",
    "    each bit / gene and each individual with mutation probability \n",
    "    PM . Similarly to crossover, keep in mind that you can use a \n",
    "    random uniform number ∈ [0, 1] and compare it against the mutation\n",
    "    probability, if it does not exceed it, the value for the gene is\n",
    "    flipped (e.g., from 0 to 1 or vice versa).\n",
    "    \"\"\"\n",
    "    mutated_individuals = []\n",
    "\n",
    "    for individual in individuals:\n",
    "        mutated_individual = individual.copy()\n",
    "\n",
    "        for gene_index in range(len(mutated_individual)):\n",
    "            if random.random() <= mutation_probability:\n",
    "                mutated_individual[gene_index] = 1 - mutated_individual[gene_index]\n",
    "\n",
    "        mutated_individuals.append(mutated_individual)\n",
    "\n",
    "    return mutated_individuals\n",
    "\n",
    "def survivor_selection(individuals, offspring, fitness_individuals, fitness_offspring):\n",
    "    \"\"\"\n",
    "    Inputs: Individuals, Offspring, Fitness Individuals, Fitness Offspring; \n",
    "    Outputs: (New) population. \n",
    "    This separate function survivor selection performs deterministic \n",
    "    survivor selection (no randomness / stochasticity here) by taking \n",
    "    from among the population individuals and the offspring the survivors \n",
    "    based on the highest fitness values (population size should remain the same!.\n",
    "    \"\"\"\n",
    "    survivors = []\n",
    "    population_copy = individuals.copy()\n",
    "    offspring_copy = offspring.copy()\n",
    "    fitness_population_copy = fitness_individuals.copy()\n",
    "    fitness_offspring_copy = fitness_offspring.copy()\n",
    "\n",
    "    while len(survivors) < len(individuals):\n",
    "      individual_1 = [fitness_population_copy.index(max(fitness_population_copy)), max(fitness_population_copy)]\n",
    "      individual_2 = [fitness_offspring_copy.index(max(fitness_offspring_copy)), max(fitness_offspring_copy)]\n",
    "      if individual_1[1] > individual_2[1]:\n",
    "          survivors.append(population_copy[individual_1[0]])\n",
    "          population_copy.pop(individual_1[0])\n",
    "          fitness_population_copy.pop(individual_1[0])\n",
    "      else:\n",
    "          survivors.append(offspring_copy[individual_2[0]])\n",
    "          offspring_copy.pop(individual_2[0])\n",
    "          fitness_offspring_copy.pop(individual_2[0])\n",
    "      \n",
    "    return survivors\n",
    "          \n",
    "\n",
    "def loop(no_of_iterations, population_size = 10, crossover_probability = 1, mutation_probability = 1):\n",
    "    \"\"\"\n",
    "    Now create the complete version of the simple genetic algorithm\n",
    "    (SGA), using the functions previously coded. Specifically, initialize the\n",
    "    population and then loop (for a number of iterations to be specified) over\n",
    "    those steps that should be repeated in the SGA.\n",
    "    \"\"\"\n",
    "    population = initialize_population(population_size)\n",
    "    fitness_population = calculate_fitness(population)\n",
    "    history = []\n",
    "    history.append(population.copy())\n",
    "\n",
    "    for i in range(no_of_iterations):\n",
    "       fitness_population = calculate_fitness(population)\n",
    "       parents = parent_selection(population, fitness_population)\n",
    "       offspring = one_point_crossover(parents, crossover_probability)\n",
    "       offspring = mutation(offspring, mutation_probability)\n",
    "       fitness_offspring = calculate_fitness(offspring)\n",
    "       population = survivor_selection(population, offspring, fitness_population, fitness_offspring)\n",
    "       history.append(population.copy())\n",
    "\n",
    "    return population, history"
   ]
  },
  {
   "cell_type": "markdown",
   "id": "0795364b",
   "metadata": {},
   "source": [
    "# Task 1:\n",
    "\n",
    "## 1.1 Initialization function\n",
    "\n",
    "Here are the generated individuals."
   ]
  },
  {
   "cell_type": "code",
   "execution_count": 24,
   "id": "df047899",
   "metadata": {},
   "outputs": [
    {
     "name": "stdout",
     "output_type": "stream",
     "text": [
      "The return type is a list of lists.\n",
      "Individual 0: [0, 1, 1, 0, 1, 1]\n",
      "Individual 1: [0, 0, 1, 0, 1, 1]\n",
      "Individual 2: [0, 1, 1, 0, 1, 0]\n",
      "Individual 3: [1, 0, 0, 1, 1, 1]\n"
     ]
    }
   ],
   "source": [
    "SIZE = 4\n",
    "\n",
    "task_1_population = initialize_population(SIZE)\n",
    "\n",
    "print(\"The return type is a list of lists.\")\n",
    "\n",
    "for individual_no in range(SIZE):\n",
    "  print(f\"Individual {individual_no}: {task_1_population[individual_no]}\")"
   ]
  },
  {
   "cell_type": "markdown",
   "id": "8801880f",
   "metadata": {},
   "source": [
    "## 1.2 Calculate fitness\n",
    "\n",
    "Here is the fitness for the individual: [0,1,0,1,0,1]"
   ]
  },
  {
   "cell_type": "code",
   "execution_count": 25,
   "id": "73d20d8a",
   "metadata": {},
   "outputs": [
    {
     "name": "stdout",
     "output_type": "stream",
     "text": [
      "[12620.976507070001]\n"
     ]
    }
   ],
   "source": [
    "print(calculate_fitness([[0,1,0,1,0,1]]))"
   ]
  },
  {
   "cell_type": "markdown",
   "id": "54cb3bed",
   "metadata": {},
   "source": [
    "Here is the plotted fitness landscape:"
   ]
  },
  {
   "cell_type": "code",
   "execution_count": 26,
   "id": "97ba7a6a",
   "metadata": {},
   "outputs": [
    {
     "name": "stdout",
     "output_type": "stream",
     "text": [
      "[8350.0, 8097.35308667, 7813.92102688, 7509.88384243, 7197.30156032, 6889.84421875, 6602.46187552, 6350.99461883, 6151.72258048, 6020.85595147, 5973.965, 6025.35009187, 6187.351713280001, 6469.60049603, 6878.20724512, 7414.89296875, 8076.058910719999, 8851.79658523, 9724.837814080001, 10669.44476627, 11650.240000000002, 12620.976507070001, 13523.247759679998, 14285.13775963, 14819.811089920004, 15024.04296875, 14776.689305920001, 13937.09676163, 12343.452807679998, 9811.075791069994, 6130.644999999997, 1066.3707322699993, 4.083246079993842, 3343.3907922699946, 5792.9649999999965, 7519.294531069998, 8667.709127679998, 9364.029541629996, 9716.157465919998, 9815.60546875, 9738.966929919998, 9549.325979629999, 9297.60743968, 9023.86676707, 8758.52, 8523.513706270001, 8333.43493408, 8196.56116523, 8115.85027072, 8089.870468749999, 8113.67028512, 8179.58851603, 8278.00419328, 8398.02655187, 8528.125, 8656.69909147, 8772.58850048, 8865.52299883, 8926.51243552, 8948.17671875, 8925.01580032, 8853.61966243, 8732.81830688]\n"
     ]
    },
    {
     "data": {
      "image/png": "[encoded data removed]",
      "text/plain": [
       "<Figure size 640x480 with 1 Axes>"
      ]
     },
     "metadata": {},
     "output_type": "display_data"
    }
   ],
   "source": [
    "x_list = range(0,63)\n",
    "y_list = calculate_fitness(x_list,pheno_mode=True)\n",
    "\n",
    "print(y_list)\n",
    "\n",
    "plt.plot(x_list, y_list, \"r-\", linewidth=2, label=\"Fitness\")\n",
    "plt.scatter(x_list, y_list, color=\"red\")\n",
    "plt.xlabel(\"X values\")\n",
    "plt.ylabel(\"Fitness\")\n",
    "plt.grid(True, alpha=0.5, which=\"both\")\n",
    "plt.minorticks_on()\n",
    "plt.show()"
   ]
  },
  {
   "cell_type": "markdown",
   "id": "081caa62",
   "metadata": {},
   "source": [
    "The minimum is reached at x-value 32. The maximum is reached at 25.\n",
    "\n",
    "## 1.3 Parent Selection Function\n"
   ]
  },
  {
   "cell_type": "code",
   "execution_count": 27,
   "id": "2994c522",
   "metadata": {},
   "outputs": [
    {
     "name": "stdout",
     "output_type": "stream",
     "text": [
      "Individuals:\n",
      "  Individual 0:\n",
      "        Geno: [0, 1, 1, 0, 0, 1]\n",
      "        Fitness: 15024.04296875\n",
      "  Individual 1:\n",
      "        Geno: [1, 0, 0, 0, 0, 0]\n",
      "        Fitness: 4.083246079993842\n",
      "  Individual 2:\n",
      "        Geno: [0, 0, 0, 0, 1, 0]\n",
      "        Fitness: 7813.92102688\n",
      "  Individual 3:\n",
      "        Geno: [1, 0, 1, 0, 0, 0]\n",
      "        Fitness: 9738.966929919998\n",
      "\n",
      "Parents selected:\n",
      "  Parent 0:\n",
      "        Geno: [1, 0, 1, 0, 0, 0]\n",
      "        Fitness: 9738.966929919998\n",
      "  Parent 1:\n",
      "        Geno: [0, 0, 0, 0, 1, 0]\n",
      "        Fitness: 7813.92102688\n",
      "  Parent 2:\n",
      "        Geno: [0, 0, 0, 0, 1, 0]\n",
      "        Fitness: 7813.92102688\n",
      "  Parent 3:\n",
      "        Geno: [0, 1, 1, 0, 0, 1]\n",
      "        Fitness: 15024.04296875\n"
     ]
    }
   ],
   "source": [
    "MAXIMA = [0,1,1,0,0,1] # 25\n",
    "MINIMA = [1,0,0,0,0,0] # 32\n",
    "MODERATE1 = [0,0,0,0,1,0] # 2\n",
    "MODERATE2 = [1,0,1,0,0,0] # 40\n",
    "task_3_population = [MAXIMA,MINIMA,MODERATE1,MODERATE2]\n",
    "task_3_population_fitness = calculate_fitness(task_3_population)\n",
    "print(\"Individuals:\")\n",
    "for individual_index in range(4):\n",
    "    print(\n",
    "        f\"  Individual {individual_index}:\\n        Geno: {task_3_population[individual_index]}\\n        Fitness: {task_3_population_fitness[individual_index]}\"\n",
    "    )\n",
    "task_3_parents = parent_selection(task_3_population, task_3_population_fitness)\n",
    "task_3_parents_fitness = calculate_fitness(task_3_parents)\n",
    "\n",
    "print(\"\\nParents selected:\")\n",
    "for individual_index in range(4):\n",
    "    print(\n",
    "        f\"  Parent {individual_index}:\\n        Geno: {task_3_parents[individual_index]}\\n        Fitness: {task_3_parents_fitness[individual_index]}\"\n",
    "    )"
   ]
  },
  {
   "cell_type": "markdown",
   "id": "a1ed70a5",
   "metadata": {},
   "source": [
    "As we can see the individual with the fitness minima was not selected."
   ]
  },
  {
   "cell_type": "markdown",
   "id": "95b84c67",
   "metadata": {},
   "source": [
    "## 1.4 Recombination"
   ]
  },
  {
   "cell_type": "code",
   "execution_count": 28,
   "id": "e1bc8362",
   "metadata": {},
   "outputs": [
    {
     "name": "stdout",
     "output_type": "stream",
     "text": [
      "Parent 1: [1, 1, 1, 1, 1, 1]\n",
      "Parent 2: [0, 0, 0, 0, 0, 0]\n",
      "Child 0: [1, 1, 1, 1, 0, 0]\n",
      "Child 1: [0, 0, 0, 0, 1, 1]\n"
     ]
    }
   ],
   "source": [
    "random.seed(45)\n",
    "\n",
    "task_4_parent1 = [1,1,1,1,1,1]\n",
    "task_4_parent2 = [0,0,0,0,0,0]\n",
    "print(f\"Parent 1: {task_4_parent1}\")\n",
    "print(f\"Parent 2: {task_4_parent2}\")\n",
    "children = one_point_crossover([task_4_parent1,task_4_parent2],1)\n",
    "for individual_index in range(len(children)):\n",
    "  print(f\"Child {individual_index}: {children[individual_index]}\")"
   ]
  },
  {
   "cell_type": "markdown",
   "id": "bc33c3e8",
   "metadata": {},
   "source": [
    "As we can see the random cutoff was dont on index 4.\n",
    "\n",
    "## 1.5 Mutation"
   ]
  },
  {
   "cell_type": "code",
   "execution_count": 29,
   "id": "2c3372f5",
   "metadata": {},
   "outputs": [
    {
     "name": "stdout",
     "output_type": "stream",
     "text": [
      "Individual before mutation:\n",
      " [0, 0, 0, 0, 0, 0]\n",
      "Individual after mutation(0.1):\n",
      " [0, 0, 1, 0, 0, 0]\n",
      "Individual after mutation(0.9):\n",
      " [1, 1, 1, 1, 1, 1]\n"
     ]
    }
   ],
   "source": [
    "random.seed(40)\n",
    "\n",
    "task_5_patient = [0, 0, 0, 0, 0, 0]\n",
    "task_5_patient_mutated = mutation([task_5_patient], 0.1)\n",
    "task_5_patient_super_mutated = mutation([task_5_patient], 0.9)\n",
    "\n",
    "print(\"Individual before mutation:\\n\",task_5_patient)\n",
    "print(\"Individual after mutation(0.1):\\n\",task_5_patient_mutated[0])\n",
    "print(\"Individual after mutation(0.9):\\n\",task_5_patient_super_mutated[0])"
   ]
  },
  {
   "cell_type": "markdown",
   "id": "7f0570c3",
   "metadata": {},
   "source": [
    "This is expected. For the low percentage mutations it going to be very rare to mutate more than one value. \n",
    "For the high percentage it makes sense that most of the genes have been flipped.\n",
    "\n",
    "## 1.6 Survivor Selection"
   ]
  },
  {
   "cell_type": "code",
   "execution_count": 30,
   "id": "5aeae93d",
   "metadata": {},
   "outputs": [
    {
     "name": "stdout",
     "output_type": "stream",
     "text": [
      "List of population used:  [[1, 0, 0, 1, 1, 0]]\n",
      "Population fitness:  [9716.157465919998]\n",
      "List of offspring used:  [[1, 1, 0, 0, 1, 1]]\n",
      "offspring fitness:  [8179.58851603]\n",
      "\n",
      "Selected individuals:  [[1, 0, 0, 1, 1, 0]]\n"
     ]
    }
   ],
   "source": [
    "task_6_individuals = [[1, 0, 0, 1, 1, 0]]\n",
    "task_6_offsprings = [[1, 1, 0, 0, 1, 1]]\n",
    "\n",
    "task_6_individual_fitness = calculate_fitness(task_6_individuals)\n",
    "task_6_offspring_fitness = calculate_fitness(task_6_offsprings)\n",
    "\n",
    "results = survivor_selection(task_6_individuals, task_6_offsprings, task_6_individual_fitness, task_6_offspring_fitness)\n",
    "\n",
    "print(\"List of population used: \", task_6_individuals)\n",
    "print(\"Population fitness: \", task_6_individual_fitness)\n",
    "print(\"List of offspring used: \", task_6_offsprings)\n",
    "print(\"offspring fitness: \", task_6_offspring_fitness)\n",
    "print()\n",
    "print(\"Selected individuals: \", results)\n",
    "\n"
   ]
  },
  {
   "cell_type": "markdown",
   "id": "58880a22",
   "metadata": {},
   "source": [
    "Here we can see that, given a population of size 1, and list of offsprings, the function returned a new list of survivors with size equal to the original population size containing the individual from the population list since that individual has a higher fitness than the offspring.\n",
    "\n",
    "## 1.7 Loop"
   ]
  },
  {
   "cell_type": "code",
   "execution_count": 31,
   "id": "7effa9ba",
   "metadata": {},
   "outputs": [
    {
     "name": "stdout",
     "output_type": "stream",
     "text": [
      "Iteration:   0 | Average:   9790.894 | Max:  10669.445\n",
      "Iteration:   1 | Average:   9790.894 | Max:  10669.445\n",
      "Iteration:   2 | Average:   9790.894 | Max:  10669.445\n",
      "Iteration:   3 | Average:  10984.497 | Max:  14819.811\n",
      "Iteration:   4 | Average:  12158.823 | Max:  14819.811\n",
      "Iteration:   5 | Average:  12158.823 | Max:  14819.811\n",
      "Iteration:   6 | Average:  13200.511 | Max:  15024.043\n",
      "Iteration:   7 | Average:  13200.511 | Max:  15024.043\n",
      "Iteration:   8 | Average:  13200.511 | Max:  15024.043\n",
      "Iteration:   9 | Average:  13200.511 | Max:  15024.043\n",
      "Iteration:  10 | Average:  13200.511 | Max:  15024.043\n",
      "Iteration:  11 | Average:  13200.511 | Max:  15024.043\n",
      "Iteration:  12 | Average:  13200.511 | Max:  15024.043\n",
      "Iteration:  13 | Average:  13200.511 | Max:  15024.043\n",
      "Iteration:  14 | Average:  13200.511 | Max:  15024.043\n",
      "Iteration:  15 | Average:  13200.511 | Max:  15024.043\n",
      "Iteration:  16 | Average:  13200.511 | Max:  15024.043\n",
      "Iteration:  17 | Average:  13200.511 | Max:  15024.043\n",
      "Iteration:  18 | Average:  13200.511 | Max:  15024.043\n",
      "Iteration:  19 | Average:  13200.511 | Max:  15024.043\n",
      "Iteration:  20 | Average:  13200.511 | Max:  15024.043\n"
     ]
    }
   ],
   "source": [
    "import statistics\n",
    "final_population, history = loop(20, 5)\n",
    "\n",
    "counter = 0\n",
    "for age in history:\n",
    "    fitness = calculate_fitness(age)\n",
    "    avg = statistics.mean(fitness)\n",
    "    big = max(fitness)\n",
    "    print(f\"Iteration: {counter:3d} | Average: {avg:10.3f} | Max: {big:10.3f}\")\n",
    "    counter += 1"
   ]
  },
  {
   "cell_type": "markdown",
   "id": "10fb1d97",
   "metadata": {},
   "source": [
    "The average fitness almost always increases with each iteration, when it doesnt increase it remains flat. This makes sense. In most iterations it picks the best individuals and creates more individuals based on those, then it picks the best individuals from both the offsprings and population and uses that. So in most iterations it will get better, but sometimes the offsprings are all worse than the population and so in that case the old population is just used again, resulting in the average not changing.\n",
    "\n",
    "## 1.8 Conclusion"
   ]
  },
  {
   "cell_type": "code",
   "execution_count": 32,
   "id": "78eb7006",
   "metadata": {},
   "outputs": [
    {
     "name": "stdout",
     "output_type": "stream",
     "text": [
      "Run:   1 | Average:  14455.637 | Max:  15024.043\n",
      "Run:   2 | Average:  13110.356 | Max:  14819.811\n",
      "Run:   3 | Average:  13742.568 | Max:  15024.043\n",
      "Run:   4 | Average:  14356.893 | Max:  14776.689\n"
     ]
    }
   ],
   "source": [
    "import statistics\n",
    "\n",
    "runs = []\n",
    "\n",
    "# RUN 1\n",
    "final_population, history = loop(10, 10)\n",
    "runs.append(final_population.copy())\n",
    "\n",
    "# RUN 2\n",
    "final_population, history = loop(1000, 10)\n",
    "runs.append(final_population.copy())\n",
    "\n",
    "# RUN 3\n",
    "final_population, history = loop(10, 500)\n",
    "runs.append(final_population.copy())\n",
    "\n",
    "# RUN 4\n",
    "final_population, history = loop(10, 2)\n",
    "runs.append(final_population.copy())\n",
    "\n",
    "counter = 1\n",
    "for run in runs:\n",
    "    fitness = calculate_fitness(run)\n",
    "    avg = statistics.mean(fitness)\n",
    "    big = max(fitness)\n",
    "    print(f\"Run: {counter:3d} | Average: {avg:10.3f} | Max: {big:10.3f}\")\n",
    "    counter += 1"
   ]
  },
  {
   "cell_type": "markdown",
   "id": "af521fcc",
   "metadata": {},
   "source": [
    "If we look at the average between runs 1 & 2, we can see that having a more iterations doesn't always mean a better average. This is likely due to having little mutation, because if it initializes as small values, it can struggle to evolve to better numbers. If we look at the average between runs 3 & 4 we can see that having a larger population greatly increases the average, this is because having a larger population means a better sample size to pick from, and thus we dont run into the same issue as was noted in runs 1 and 2. "
   ]
  },
  {
   "cell_type": "markdown",
   "id": "c6fac7ee",
   "metadata": {},
   "source": [
    "# Task 2 Knapsack\n",
    "\n",
    "## Task 2.1 Load and analyze data"
   ]
  },
  {
   "cell_type": "code",
   "execution_count": 33,
   "id": "9f3249d9",
   "metadata": {},
   "outputs": [
    {
     "name": "stdout",
     "output_type": "stream",
     "text": [
      "Amount of items: 1001\n",
      "Average value: 5762.1738261738265\n",
      "Average weight: 10134.013986013986\n",
      "Max value: 17195\n",
      "Max weight: 100000\n",
      "Min value: -4299\n",
      "Min weight: 1\n",
      "Average value/weight ratio: -4.899436777981701\n"
     ]
    }
   ],
   "source": [
    "item_values = []\n",
    "item_weights = []\n",
    "\n",
    "with open(\"data/data_1001.csv\", \"r\") as file:\n",
    "    next(file)\n",
    "    for line in file:\n",
    "        num1, num2 = line.strip().split(',')\n",
    "        item_values.append(int(num1))\n",
    "        item_weights.append(int(num2))\n",
    "\n",
    "avg_value = statistics.mean(item_values)\n",
    "avg_weights = statistics.mean(item_weights)\n",
    "\n",
    "max_value = max(item_values)\n",
    "max_weight = max(item_weights)\n",
    "\n",
    "min_value = min(item_values)\n",
    "min_weight = min(item_weights)\n",
    "\n",
    "average_ratio = 0\n",
    "\n",
    "for i in range(len(item_values)):\n",
    "    average_ratio += item_values[i]/item_weights[i]\n",
    "\n",
    "average_ratio = average_ratio/len(item_values)\n",
    "\n",
    "print(\"Amount of items:\", len(item_values))\n",
    "print(\"Average value:\", avg_value)\n",
    "print(\"Average weight:\", avg_weights)\n",
    "print(\"Max value:\", max_value)\n",
    "print(\"Max weight:\", max_weight)\n",
    "print(\"Min value:\", min_value)\n",
    "print(\"Min weight:\", min_weight)\n",
    "print(\"Average value/weight ratio:\", average_ratio)\n",
    "\n",
    "\n"
   ]
  },
  {
   "cell_type": "markdown",
   "id": "8aa40899",
   "metadata": {},
   "source": [
    "The dataset has 1001 items (as stated in the file name 🙂‍↕️). The item weights are always positive and they are always between 1 and 100000. The item values however can be negative, from -4299 to 17195. The average value is a 5762 but the average ratio is -4.8. This would indicate that items with negative values are much lighter on average.\n",
    "\n",
    "## Task 2.2 New initialization"
   ]
  },
  {
   "cell_type": "code",
   "execution_count": 34,
   "id": "64239696",
   "metadata": {},
   "outputs": [],
   "source": [
    "def initialize_population_knap(population_size: int) -> list[list]:\n",
    "  \"\"\"\n",
    "  Creates the individuals for the population, each having 1001 binary genes. Provides outputs\n",
    "  e.g., as a list of lists e.g.,\n",
    "  \"\"\"\n",
    "  return_list = []\n",
    "  for _ in range(population_size):\n",
    "    individual_list = []\n",
    "    for _ in range(1001):\n",
    "      individual_list.append(random.choice([1,0]))\n",
    "    return_list.append(individual_list)\n",
    "  \n",
    "  return return_list"
   ]
  },
  {
   "cell_type": "markdown",
   "id": "25e8b10a",
   "metadata": {},
   "source": [
    "## Task 2.3 New fitness function"
   ]
  },
  {
   "cell_type": "code",
   "execution_count": 35,
   "id": "a7c12a1e",
   "metadata": {},
   "outputs": [],
   "source": [
    "\n",
    "def calculate_fitness_knap(individuals):\n",
    "    \"\"\"\n",
    "    Takes in the phenotype and calculates the fitness\n",
    "    \n",
    "    fitness = highest value sum\n",
    "    \"\"\"\n",
    "  \n",
    "    fitness_list = []\n",
    "    \n",
    "    for individual in individuals:\n",
    "        current_fit = 0\n",
    "        for i in range(len(individual)):\n",
    "            if individual[i]:\n",
    "                current_fit += item_values[i]\n",
    "        fitness_list.append(current_fit)\n",
    "  \n",
    "    return fitness_list"
   ]
  },
  {
   "cell_type": "markdown",
   "id": "d2346640",
   "metadata": {},
   "source": [
    "## Task 2.4 Knap SGA"
   ]
  },
  {
   "cell_type": "code",
   "execution_count": 38,
   "id": "cd62532d",
   "metadata": {},
   "outputs": [
    {
     "name": "stdout",
     "output_type": "stream",
     "text": [
      "Average: 4140188.067 | Max: 4184049.000\n",
      "sum_of_values_best_solution: 4184049\n",
      "sum_of_weights_best_solution: 6813870\n",
      "sum_of_values_not_picked: 1583887\n",
      "sum_of_weights_not_picked: 3330278\n",
      "selected_average_ratio: -7.2111816405933995\n",
      "not_selected_average_ratio: -1.5533415245192934\n",
      "selected_count: 592\n",
      "not_selected_count: 409\n"
     ]
    }
   ],
   "source": [
    "def loop_knap(no_of_iterations, population_size = 10, crossover_probability = 1, mutation_probability = 1):\n",
    "    \"\"\"\n",
    "    Now create the complete version of the simple genetic algorithm\n",
    "    (SGA), using the functions previously coded. Specifically, initialize the\n",
    "    population and then loop (for a number of iterations to be specified) over\n",
    "    those steps that should be repeated in the SGA.\n",
    "    \"\"\"\n",
    "    population = initialize_population_knap(population_size)\n",
    "    fitness_population = calculate_fitness_knap(population)\n",
    "\n",
    "    for i in range(no_of_iterations):\n",
    "       fitness_population = calculate_fitness_knap(population)\n",
    "       parents = parent_selection(population, fitness_population)\n",
    "       offspring = one_point_crossover(parents, crossover_probability)\n",
    "       offspring = mutation(offspring, mutation_probability)\n",
    "       fitness_offspring = calculate_fitness_knap(offspring)\n",
    "       population = survivor_selection(population, offspring, fitness_population, fitness_offspring)\n",
    "\n",
    "    return population\n",
    "\n",
    "\n",
    "final_population = loop_knap(1000, 30, 0.9, 0.1)\n",
    "\n",
    "fitness = calculate_fitness_knap(final_population)\n",
    "avg = statistics.mean(fitness)\n",
    "big = max(fitness)\n",
    "indx = fitness.index(big)\n",
    "best_solution = final_population[indx]\n",
    "sum_of_values_best_solution = 0\n",
    "sum_of_weights_best_solution = 0\n",
    "sum_of_values_not_picked = 0\n",
    "sum_of_weights_not_picked = 0\n",
    "selected_average_ratio = 0\n",
    "not_selected_average_ratio = 0\n",
    "selected_count = 0\n",
    "\n",
    "for i in range(len(best_solution)):\n",
    "    if best_solution[i]:\n",
    "        sum_of_values_best_solution += item_values[i]\n",
    "        sum_of_weights_best_solution += item_weights[i]\n",
    "        selected_average_ratio += item_values[i]/item_weights[i]\n",
    "        selected_count += 1\n",
    "    else:\n",
    "        sum_of_values_not_picked += item_values[i]\n",
    "        sum_of_weights_not_picked += item_weights[i]\n",
    "        not_selected_average_ratio += item_values[i]/item_weights[i]\n",
    "\n",
    "selected_average_ratio = selected_average_ratio/selected_count\n",
    "not_selected_average_ratio = not_selected_average_ratio / (1001-selected_count)\n",
    "\n",
    "print(f\"Average: {avg:10.3f} | Max: {big:10.3f}\")\n",
    "print(\"sum_of_values_best_solution:\", sum_of_values_best_solution)\n",
    "print(\"sum_of_weights_best_solution:\", sum_of_weights_best_solution)\n",
    "print(\"sum_of_values_not_picked:\", sum_of_values_not_picked)\n",
    "print(\"sum_of_weights_not_picked:\", sum_of_weights_not_picked)\n",
    "print(\"selected_average_ratio:\", selected_average_ratio)\n",
    "print(\"not_selected_average_ratio:\", not_selected_average_ratio)\n",
    "print(\"selected_count:\", selected_count)\n",
    "print(\"not_selected_count:\", 1001-selected_count)\n",
    "\n"
   ]
  },
  {
   "cell_type": "markdown",
   "id": "80ccb521",
   "metadata": {},
   "source": [
    "This is expected, as we can see "
   ]
  }
 ],
 "metadata": {
  "kernelspec": {
   "display_name": "Python 3",
   "language": "python",
   "name": "python3"
  },
  "language_info": {
   "codemirror_mode": {
    "name": "ipython",
    "version": 3
   },
   "file_extension": ".py",
   "mimetype": "text/x-python",
   "name": "python",
   "nbconvert_exporter": "python",
   "pygments_lexer": "ipython3",
   "version": "3.12.3"
  }
 },
 "nbformat": 4,
 "nbformat_minor": 5
}
